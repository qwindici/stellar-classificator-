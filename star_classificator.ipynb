{
 "cells": [
  {
   "cell_type": "code",
   "execution_count": 1,
   "metadata": {},
   "outputs": [],
   "source": [
    "import numpy as np\n",
    "import pandas as pd\n",
    "from sklearn.model_selection import train_test_split\n",
    "from sklearn.preprocessing import MinMaxScaler\n",
    "from sklearn.preprocessing import LabelEncoder\n",
    "import torch"
   ]
  },
  {
   "cell_type": "code",
   "execution_count": 2,
   "metadata": {},
   "outputs": [
    {
     "name": "stdout",
     "output_type": "stream",
     "text": [
      "Device mps\n"
     ]
    }
   ],
   "source": [
    "if torch.backends.mps.is_available():\n",
    "    torch.mps.manual_seed(42)\n",
    "\n",
    "torch.backends.mps.deterministic = True\n",
    "torch.backends.mps.benchmark = False\n",
    "\n",
    "device = (\n",
    "    torch.device(\"mps\") if torch.backends.mps.is_available() else torch.device(\"cpu\")\n",
    ")\n",
    "print(\"Device\", device)"
   ]
  },
  {
   "cell_type": "code",
   "execution_count": 3,
   "metadata": {},
   "outputs": [
    {
     "name": "stderr",
     "output_type": "stream",
     "text": [
      "/var/folders/pn/fjbkbl1119z07xq7zv89lw240000gn/T/ipykernel_76445/1101045925.py:1: DtypeWarning: Columns (1,8) have mixed types. Specify dtype option on import or set low_memory=False.\n",
      "  data = pd.read_csv(\"StarClassificationDataset.csv\")\n"
     ]
    },
    {
     "data": {
      "text/html": [
       "<div>\n",
       "<style scoped>\n",
       "    .dataframe tbody tr th:only-of-type {\n",
       "        vertical-align: middle;\n",
       "    }\n",
       "\n",
       "    .dataframe tbody tr th {\n",
       "        vertical-align: top;\n",
       "    }\n",
       "\n",
       "    .dataframe thead th {\n",
       "        text-align: right;\n",
       "    }\n",
       "</style>\n",
       "<table border=\"1\" class=\"dataframe\">\n",
       "  <thead>\n",
       "    <tr style=\"text-align: right;\">\n",
       "      <th></th>\n",
       "      <th>object_ID</th>\n",
       "      <th>alpha</th>\n",
       "      <th>delta</th>\n",
       "      <th>UV_filter</th>\n",
       "      <th>green_filter</th>\n",
       "      <th>red_filter</th>\n",
       "      <th>near_IR_filter</th>\n",
       "      <th>IR_filter</th>\n",
       "      <th>run_ID</th>\n",
       "      <th>rerun_ID</th>\n",
       "      <th>cam_col</th>\n",
       "      <th>field_ID</th>\n",
       "      <th>spec_obj_ID</th>\n",
       "      <th>red_shift</th>\n",
       "      <th>plate_ID</th>\n",
       "      <th>MJD</th>\n",
       "      <th>fiber_ID</th>\n",
       "      <th>class</th>\n",
       "    </tr>\n",
       "  </thead>\n",
       "  <tbody>\n",
       "    <tr>\n",
       "      <th>0</th>\n",
       "      <td>1.240000e+18</td>\n",
       "      <td>135.6891066</td>\n",
       "      <td>32.494632</td>\n",
       "      <td>23.87882</td>\n",
       "      <td>22.27530</td>\n",
       "      <td>20.39501</td>\n",
       "      <td>19.16573</td>\n",
       "      <td>18.79371</td>\n",
       "      <td>3606</td>\n",
       "      <td>301</td>\n",
       "      <td>2</td>\n",
       "      <td>79</td>\n",
       "      <td>6.540000e+18</td>\n",
       "      <td>0.634794</td>\n",
       "      <td>5812</td>\n",
       "      <td>56354</td>\n",
       "      <td>171</td>\n",
       "      <td>GALAXY</td>\n",
       "    </tr>\n",
       "    <tr>\n",
       "      <th>1</th>\n",
       "      <td>1.240000e+18</td>\n",
       "      <td>144.8261006</td>\n",
       "      <td>31.274185</td>\n",
       "      <td>24.77759</td>\n",
       "      <td>22.83188</td>\n",
       "      <td>22.58444</td>\n",
       "      <td>21.16812</td>\n",
       "      <td>21.61427</td>\n",
       "      <td>4518</td>\n",
       "      <td>301</td>\n",
       "      <td>5</td>\n",
       "      <td>119</td>\n",
       "      <td>1.180000e+19</td>\n",
       "      <td>0.779136</td>\n",
       "      <td>10445</td>\n",
       "      <td>58158</td>\n",
       "      <td>427</td>\n",
       "      <td>GALAXY</td>\n",
       "    </tr>\n",
       "    <tr>\n",
       "      <th>2</th>\n",
       "      <td>1.240000e+18</td>\n",
       "      <td>142.1887896</td>\n",
       "      <td>35.582444</td>\n",
       "      <td>25.26307</td>\n",
       "      <td>22.66389</td>\n",
       "      <td>20.60976</td>\n",
       "      <td>19.34857</td>\n",
       "      <td>18.94827</td>\n",
       "      <td>3606</td>\n",
       "      <td>301</td>\n",
       "      <td>2</td>\n",
       "      <td>120</td>\n",
       "      <td>5.150000e+18</td>\n",
       "      <td>0.644195</td>\n",
       "      <td>4576</td>\n",
       "      <td>55592</td>\n",
       "      <td>299</td>\n",
       "      <td>GALAXY</td>\n",
       "    </tr>\n",
       "    <tr>\n",
       "      <th>3</th>\n",
       "      <td>1.240000e+18</td>\n",
       "      <td>338.7410378</td>\n",
       "      <td>-0.402828</td>\n",
       "      <td>22.13682</td>\n",
       "      <td>23.77656</td>\n",
       "      <td>21.61162</td>\n",
       "      <td>20.50454</td>\n",
       "      <td>19.25010</td>\n",
       "      <td>4192</td>\n",
       "      <td>301</td>\n",
       "      <td>3</td>\n",
       "      <td>214</td>\n",
       "      <td>1.030000e+19</td>\n",
       "      <td>0.932346</td>\n",
       "      <td>9149</td>\n",
       "      <td>58039</td>\n",
       "      <td>775</td>\n",
       "      <td>GALAXY</td>\n",
       "    </tr>\n",
       "    <tr>\n",
       "      <th>5</th>\n",
       "      <td>1.240000e+18</td>\n",
       "      <td>340.9951205</td>\n",
       "      <td>20.589476</td>\n",
       "      <td>23.48827</td>\n",
       "      <td>23.33776</td>\n",
       "      <td>21.32195</td>\n",
       "      <td>20.25615</td>\n",
       "      <td>19.54544</td>\n",
       "      <td>8102</td>\n",
       "      <td>301</td>\n",
       "      <td>3</td>\n",
       "      <td>110</td>\n",
       "      <td>5.660000e+18</td>\n",
       "      <td>1.424659</td>\n",
       "      <td>5026</td>\n",
       "      <td>55855</td>\n",
       "      <td>741</td>\n",
       "      <td>QSO</td>\n",
       "    </tr>\n",
       "    <tr>\n",
       "      <th>...</th>\n",
       "      <td>...</td>\n",
       "      <td>...</td>\n",
       "      <td>...</td>\n",
       "      <td>...</td>\n",
       "      <td>...</td>\n",
       "      <td>...</td>\n",
       "      <td>...</td>\n",
       "      <td>...</td>\n",
       "      <td>...</td>\n",
       "      <td>...</td>\n",
       "      <td>...</td>\n",
       "      <td>...</td>\n",
       "      <td>...</td>\n",
       "      <td>...</td>\n",
       "      <td>...</td>\n",
       "      <td>...</td>\n",
       "      <td>...</td>\n",
       "      <td>...</td>\n",
       "    </tr>\n",
       "    <tr>\n",
       "      <th>99995</th>\n",
       "      <td>1.240000e+18</td>\n",
       "      <td>39.620709</td>\n",
       "      <td>-2.594074</td>\n",
       "      <td>22.16759</td>\n",
       "      <td>22.97586</td>\n",
       "      <td>21.90404</td>\n",
       "      <td>21.30548</td>\n",
       "      <td>20.73569</td>\n",
       "      <td>7778</td>\n",
       "      <td>301</td>\n",
       "      <td>2</td>\n",
       "      <td>581</td>\n",
       "      <td>1.060000e+19</td>\n",
       "      <td>0.000000</td>\n",
       "      <td>9374</td>\n",
       "      <td>57749</td>\n",
       "      <td>438</td>\n",
       "      <td>GALAXY</td>\n",
       "    </tr>\n",
       "    <tr>\n",
       "      <th>99996</th>\n",
       "      <td>1.240000e+18</td>\n",
       "      <td>29.493819</td>\n",
       "      <td>19.798874</td>\n",
       "      <td>22.69118</td>\n",
       "      <td>22.38628</td>\n",
       "      <td>20.45003</td>\n",
       "      <td>19.75759</td>\n",
       "      <td>19.41526</td>\n",
       "      <td>7917</td>\n",
       "      <td>301</td>\n",
       "      <td>1</td>\n",
       "      <td>289</td>\n",
       "      <td>8.590000e+18</td>\n",
       "      <td>0.404895</td>\n",
       "      <td>7626</td>\n",
       "      <td>56934</td>\n",
       "      <td>866</td>\n",
       "      <td>GALAXY</td>\n",
       "    </tr>\n",
       "    <tr>\n",
       "      <th>99997</th>\n",
       "      <td>1.240000e+18</td>\n",
       "      <td>224.587407</td>\n",
       "      <td>15.700707</td>\n",
       "      <td>21.16916</td>\n",
       "      <td>19.26997</td>\n",
       "      <td>18.20428</td>\n",
       "      <td>17.69034</td>\n",
       "      <td>17.35221</td>\n",
       "      <td>5314</td>\n",
       "      <td>301</td>\n",
       "      <td>4</td>\n",
       "      <td>308</td>\n",
       "      <td>3.110000e+18</td>\n",
       "      <td>0.143366</td>\n",
       "      <td>2764</td>\n",
       "      <td>54535</td>\n",
       "      <td>74</td>\n",
       "      <td>GALAXY</td>\n",
       "    </tr>\n",
       "    <tr>\n",
       "      <th>99998</th>\n",
       "      <td>1.240000e+18</td>\n",
       "      <td>212.268621</td>\n",
       "      <td>46.660365</td>\n",
       "      <td>25.35039</td>\n",
       "      <td>21.63757</td>\n",
       "      <td>19.91386</td>\n",
       "      <td>19.07254</td>\n",
       "      <td>18.62482</td>\n",
       "      <td>3650</td>\n",
       "      <td>301</td>\n",
       "      <td>4</td>\n",
       "      <td>131</td>\n",
       "      <td>7.600000e+18</td>\n",
       "      <td>0.455040</td>\n",
       "      <td>6751</td>\n",
       "      <td>56368</td>\n",
       "      <td>470</td>\n",
       "      <td>GALAXY</td>\n",
       "    </tr>\n",
       "    <tr>\n",
       "      <th>99999</th>\n",
       "      <td>1.240000e+18</td>\n",
       "      <td>196.896053</td>\n",
       "      <td>49.464643</td>\n",
       "      <td>22.62171</td>\n",
       "      <td>21.79745</td>\n",
       "      <td>20.60115</td>\n",
       "      <td>20.00959</td>\n",
       "      <td>19.28075</td>\n",
       "      <td>3650</td>\n",
       "      <td>301</td>\n",
       "      <td>4</td>\n",
       "      <td>60</td>\n",
       "      <td>8.340000e+18</td>\n",
       "      <td>0.542944</td>\n",
       "      <td>7410</td>\n",
       "      <td>57104</td>\n",
       "      <td>851</td>\n",
       "      <td>GALAXY</td>\n",
       "    </tr>\n",
       "  </tbody>\n",
       "</table>\n",
       "<p>99991 rows × 18 columns</p>\n",
       "</div>"
      ],
      "text/plain": [
       "          object_ID        alpha      delta  UV_filter  green_filter  \\\n",
       "0      1.240000e+18  135.6891066  32.494632   23.87882      22.27530   \n",
       "1      1.240000e+18  144.8261006  31.274185   24.77759      22.83188   \n",
       "2      1.240000e+18  142.1887896  35.582444   25.26307      22.66389   \n",
       "3      1.240000e+18  338.7410378  -0.402828   22.13682      23.77656   \n",
       "5      1.240000e+18  340.9951205  20.589476   23.48827      23.33776   \n",
       "...             ...          ...        ...        ...           ...   \n",
       "99995  1.240000e+18    39.620709  -2.594074   22.16759      22.97586   \n",
       "99996  1.240000e+18    29.493819  19.798874   22.69118      22.38628   \n",
       "99997  1.240000e+18   224.587407  15.700707   21.16916      19.26997   \n",
       "99998  1.240000e+18   212.268621  46.660365   25.35039      21.63757   \n",
       "99999  1.240000e+18   196.896053  49.464643   22.62171      21.79745   \n",
       "\n",
       "       red_filter  near_IR_filter  IR_filter run_ID  rerun_ID  cam_col  \\\n",
       "0        20.39501        19.16573   18.79371   3606       301        2   \n",
       "1        22.58444        21.16812   21.61427   4518       301        5   \n",
       "2        20.60976        19.34857   18.94827   3606       301        2   \n",
       "3        21.61162        20.50454   19.25010   4192       301        3   \n",
       "5        21.32195        20.25615   19.54544   8102       301        3   \n",
       "...           ...             ...        ...    ...       ...      ...   \n",
       "99995    21.90404        21.30548   20.73569   7778       301        2   \n",
       "99996    20.45003        19.75759   19.41526   7917       301        1   \n",
       "99997    18.20428        17.69034   17.35221   5314       301        4   \n",
       "99998    19.91386        19.07254   18.62482   3650       301        4   \n",
       "99999    20.60115        20.00959   19.28075   3650       301        4   \n",
       "\n",
       "       field_ID   spec_obj_ID  red_shift  plate_ID    MJD  fiber_ID   class  \n",
       "0            79  6.540000e+18   0.634794      5812  56354       171  GALAXY  \n",
       "1           119  1.180000e+19   0.779136     10445  58158       427  GALAXY  \n",
       "2           120  5.150000e+18   0.644195      4576  55592       299  GALAXY  \n",
       "3           214  1.030000e+19   0.932346      9149  58039       775  GALAXY  \n",
       "5           110  5.660000e+18   1.424659      5026  55855       741     QSO  \n",
       "...         ...           ...        ...       ...    ...       ...     ...  \n",
       "99995       581  1.060000e+19   0.000000      9374  57749       438  GALAXY  \n",
       "99996       289  8.590000e+18   0.404895      7626  56934       866  GALAXY  \n",
       "99997       308  3.110000e+18   0.143366      2764  54535        74  GALAXY  \n",
       "99998       131  7.600000e+18   0.455040      6751  56368       470  GALAXY  \n",
       "99999        60  8.340000e+18   0.542944      7410  57104       851  GALAXY  \n",
       "\n",
       "[99991 rows x 18 columns]"
      ]
     },
     "execution_count": 3,
     "metadata": {},
     "output_type": "execute_result"
    }
   ],
   "source": [
    "data = pd.read_csv(\"StarClassificationDataset.csv\")\n",
    "data = data.dropna()\n",
    "data.shape\n",
    "data"
   ]
  },
  {
   "cell_type": "code",
   "execution_count": 4,
   "metadata": {},
   "outputs": [
    {
     "name": "stdout",
     "output_type": "stream",
     "text": [
      "Index(['object_ID', 'rerun_ID'], dtype='object')\n"
     ]
    },
    {
     "data": {
      "text/plain": [
       "(99991, 16)"
      ]
     },
     "execution_count": 4,
     "metadata": {},
     "output_type": "execute_result"
    }
   ],
   "source": [
    "constant_columns = data.columns[data.nunique() == 1]\n",
    "print(constant_columns)\n",
    "data.drop(columns=constant_columns, inplace=True)\n",
    "data.shape"
   ]
  },
  {
   "cell_type": "code",
   "execution_count": 5,
   "metadata": {},
   "outputs": [
    {
     "name": "stdout",
     "output_type": "stream",
     "text": [
      "<class 'pandas.core.frame.DataFrame'>\n",
      "Index: 99989 entries, 0 to 99999\n",
      "Data columns (total 16 columns):\n",
      " #   Column          Non-Null Count  Dtype  \n",
      "---  ------          --------------  -----  \n",
      " 0   alpha           99989 non-null  object \n",
      " 1   delta           99989 non-null  float64\n",
      " 2   UV_filter       99989 non-null  float64\n",
      " 3   green_filter    99989 non-null  float64\n",
      " 4   red_filter      99989 non-null  float64\n",
      " 5   near_IR_filter  99989 non-null  float64\n",
      " 6   IR_filter       99989 non-null  float64\n",
      " 7   run_ID          99989 non-null  object \n",
      " 8   cam_col         99989 non-null  int64  \n",
      " 9   field_ID        99989 non-null  int64  \n",
      " 10  spec_obj_ID     99989 non-null  float64\n",
      " 11  red_shift       99989 non-null  float64\n",
      " 12  plate_ID        99989 non-null  int64  \n",
      " 13  MJD             99989 non-null  int64  \n",
      " 14  fiber_ID        99989 non-null  int64  \n",
      " 15  class           99989 non-null  object \n",
      "dtypes: float64(8), int64(5), object(3)\n",
      "memory usage: 13.0+ MB\n"
     ]
    }
   ],
   "source": [
    "df = data.copy()\n",
    "# fill ' ' with nan\n",
    "df[[\"alpha\", \"run_ID\"]] = df[[\"alpha\", \"run_ID\"]].replace(r\"^\\s*$\", np.nan, regex=True)\n",
    "# drop new nan\n",
    "df.dropna(inplace=True)\n",
    "df.shape\n",
    "df.info()"
   ]
  },
  {
   "cell_type": "code",
   "execution_count": 6,
   "metadata": {},
   "outputs": [
    {
     "name": "stdout",
     "output_type": "stream",
     "text": [
      "<class 'pandas.core.frame.DataFrame'>\n",
      "Index: 99989 entries, 0 to 99999\n",
      "Data columns (total 16 columns):\n",
      " #   Column          Non-Null Count  Dtype  \n",
      "---  ------          --------------  -----  \n",
      " 0   alpha           99989 non-null  float64\n",
      " 1   delta           99989 non-null  float64\n",
      " 2   UV_filter       99989 non-null  float64\n",
      " 3   green_filter    99989 non-null  float64\n",
      " 4   red_filter      99989 non-null  float64\n",
      " 5   near_IR_filter  99989 non-null  float64\n",
      " 6   IR_filter       99989 non-null  float64\n",
      " 7   run_ID          99989 non-null  int64  \n",
      " 8   cam_col         99989 non-null  int64  \n",
      " 9   field_ID        99989 non-null  int64  \n",
      " 10  spec_obj_ID     99989 non-null  float64\n",
      " 11  red_shift       99989 non-null  float64\n",
      " 12  plate_ID        99989 non-null  int64  \n",
      " 13  MJD             99989 non-null  int64  \n",
      " 14  fiber_ID        99989 non-null  int64  \n",
      " 15  class           99989 non-null  object \n",
      "dtypes: float64(9), int64(6), object(1)\n",
      "memory usage: 13.0+ MB\n"
     ]
    }
   ],
   "source": [
    "df['run_ID'] = df['run_ID'].astype('int')\n",
    "df[\"alpha\"] = df[\"alpha\"].astype(\"float\")\n",
    "df.info()\n",
    "X = df.drop(\"class\", axis=1)"
   ]
  },
  {
   "cell_type": "code",
   "execution_count": 7,
   "metadata": {},
   "outputs": [
    {
     "name": "stdout",
     "output_type": "stream",
     "text": [
      "Mean alpha                            177.622734\n",
      "delta                             24.135449\n",
      "UV_filter                         21.980473\n",
      "green_filter                      20.531376\n",
      "red_filter                        19.645774\n",
      "near_IR_filter                    19.084869\n",
      "IR_filter                         18.668818\n",
      "run_ID                          4481.413946\n",
      "cam_col                            3.511626\n",
      "field_ID                         186.129254\n",
      "spec_obj_ID      5784028913180449792.000000\n",
      "red_shift                          0.576663\n",
      "plate_ID                        5137.102581\n",
      "MJD                            55588.708128\n",
      "fiber_ID                         449.303253\n",
      "dtype: float64\n",
      "\n",
      "Std alpha                             96.501108\n",
      "delta                             19.644584\n",
      "UV_filter                         31.771029\n",
      "green_filter                      31.752030\n",
      "red_filter                         1.854751\n",
      "near_IR_filter                     1.757889\n",
      "IR_filter                         31.729891\n",
      "run_ID                          1964.791278\n",
      "cam_col                            1.586959\n",
      "field_ID                         149.015897\n",
      "spec_obj_ID      3323960856566641152.000000\n",
      "red_shift                          0.730724\n",
      "plate_ID                        2952.262946\n",
      "MJD                             1808.446599\n",
      "fiber_ID                         272.488582\n",
      "dtype: float64\n"
     ]
    }
   ],
   "source": [
    "pd.set_option(\"display.float_format\", \"{:.6f}\".format)\n",
    "print(\"Mean\", X.mean(axis=0))\n",
    "print()\n",
    "print(\"Std\", X.std(axis=0))"
   ]
  },
  {
   "cell_type": "code",
   "execution_count": 8,
   "metadata": {},
   "outputs": [],
   "source": [
    "scaler = MinMaxScaler()\n",
    "X = scaler.fit_transform(X)"
   ]
  },
  {
   "cell_type": "code",
   "execution_count": 9,
   "metadata": {},
   "outputs": [
    {
     "name": "stdout",
     "output_type": "stream",
     "text": [
      "Mean [0.49338897 0.42167726 0.99892333 0.99889629 0.49740803 0.42409801\n",
      " 0.99893154 0.54295467 0.50232526 0.17906877 0.3973934  0.08355161\n",
      " 0.39663729 0.54351558 0.44875201]\n",
      "\n",
      "Std [0.26806155 0.19299821 0.00316702 0.0031655  0.09391195 0.07753678\n",
      " 0.00316399 0.24398131 0.31739026 0.15236723 0.24086552 0.10407314\n",
      " 0.24039151 0.24691938 0.27275998]\n"
     ]
    }
   ],
   "source": [
    "pd.set_option(\"display.float_format\", \"{:.6f}\".format)\n",
    "print(\"Mean\", X.mean(axis=0))\n",
    "print()\n",
    "print(\"Std\", X.std(axis=0))"
   ]
  },
  {
   "cell_type": "code",
   "execution_count": 10,
   "metadata": {},
   "outputs": [],
   "source": [
    "X = torch.tensor(X, dtype=torch.float32)"
   ]
  },
  {
   "cell_type": "code",
   "execution_count": 30,
   "metadata": {},
   "outputs": [],
   "source": [
    "encoder = LabelEncoder()\n",
    "y = encoder.fit_transform(df[\"class\"])\n",
    "classes = list(df[\"class\"].unique())\n",
    "\n",
    "y = torch.tensor(y, dtype=torch.long)"
   ]
  },
  {
   "cell_type": "code",
   "execution_count": 12,
   "metadata": {},
   "outputs": [],
   "source": [
    "X_train, X_test, y_train, y_test = train_test_split(\n",
    "    X, y, test_size=0.20, random_state=42\n",
    ")\n",
    "\n",
    "X_train, X_val, y_train, y_val = train_test_split(\n",
    "    X_train, y_train, test_size=0.20, random_state=42\n",
    ")"
   ]
  },
  {
   "cell_type": "code",
   "execution_count": 13,
   "metadata": {},
   "outputs": [],
   "source": [
    "from torch.utils.data import Dataset, DataLoader\n",
    "\n",
    "class ClassData(Dataset):\n",
    "    def __init__(self, X, y):\n",
    "        self.X = X\n",
    "        self.y = y\n",
    "\n",
    "    def __len__(self):\n",
    "        return self.X.shape[0]\n",
    "\n",
    "    def __getitem__(self, idx):\n",
    "        return self.X[idx], self.y[idx]\n",
    "\n",
    "train_data = ClassData(X_train, y_train)\n",
    "val_data = ClassData(X_val, y_val)\n",
    "test_data = ClassData(X_test, y_test)"
   ]
  },
  {
   "cell_type": "code",
   "execution_count": 14,
   "metadata": {},
   "outputs": [],
   "source": [
    "train_loader = DataLoader(train_data, batch_size=32)\n",
    "test_loader = DataLoader(test_data, batch_size=32)\n",
    "val_loader = DataLoader(val_data, batch_size=32)"
   ]
  },
  {
   "cell_type": "code",
   "execution_count": 15,
   "metadata": {},
   "outputs": [],
   "source": [
    "import torch.nn as nn\n",
    "\n",
    "class Classifier(nn.Module):\n",
    "    def __init__(self):\n",
    "        super().__init__() \n",
    "        self.model = nn.Sequential(\n",
    "            nn.Linear(15, 128),\n",
    "            nn.BatchNorm1d(128),\n",
    "            nn.ReLU(),\n",
    "            nn.Dropout(0.3),\n",
    "            nn.Linear(128, 64),\n",
    "            nn.BatchNorm1d(64),\n",
    "            nn.ReLU(),\n",
    "            nn.Dropout(0.3),\n",
    "            nn.Linear(64, 3)\n",
    "        )\n",
    "\n",
    "    def forward(self, x):\n",
    "        return self.model(x)"
   ]
  },
  {
   "cell_type": "code",
   "execution_count": 16,
   "metadata": {},
   "outputs": [],
   "source": [
    "model = Classifier()"
   ]
  },
  {
   "cell_type": "code",
   "execution_count": 17,
   "metadata": {},
   "outputs": [],
   "source": [
    "loss_function = torch.nn.CrossEntropyLoss()"
   ]
  },
  {
   "cell_type": "code",
   "execution_count": 18,
   "metadata": {},
   "outputs": [],
   "source": [
    "optimizer = torch.optim.Adam(model.parameters(), lr=0.001)"
   ]
  },
  {
   "cell_type": "code",
   "execution_count": 19,
   "metadata": {},
   "outputs": [
    {
     "data": {
      "text/plain": [
       "Classifier(\n",
       "  (model): Sequential(\n",
       "    (0): Linear(in_features=15, out_features=128, bias=True)\n",
       "    (1): BatchNorm1d(128, eps=1e-05, momentum=0.1, affine=True, track_running_stats=True)\n",
       "    (2): ReLU()\n",
       "    (3): Dropout(p=0.3, inplace=False)\n",
       "    (4): Linear(in_features=128, out_features=64, bias=True)\n",
       "    (5): BatchNorm1d(64, eps=1e-05, momentum=0.1, affine=True, track_running_stats=True)\n",
       "    (6): ReLU()\n",
       "    (7): Dropout(p=0.3, inplace=False)\n",
       "    (8): Linear(in_features=64, out_features=3, bias=True)\n",
       "  )\n",
       ")"
      ]
     },
     "execution_count": 19,
     "metadata": {},
     "output_type": "execute_result"
    }
   ],
   "source": [
    "model.to(device)  # Push the model to the device"
   ]
  },
  {
   "cell_type": "code",
   "execution_count": 20,
   "metadata": {},
   "outputs": [
    {
     "name": "stdout",
     "output_type": "stream",
     "text": [
      "Epoch [1/15], Train Loss: 0.4026, Train Accuracy: 84.30%, Val Loss: 0.2037, Val Accuracy: 93.52%\n",
      "Epoch [2/15], Train Loss: 0.2621, Train Accuracy: 90.76%, Val Loss: 0.1713, Val Accuracy: 94.49%\n",
      "Epoch [3/15], Train Loss: 0.2316, Train Accuracy: 91.86%, Val Loss: 0.1612, Val Accuracy: 94.79%\n",
      "Epoch [4/15], Train Loss: 0.2191, Train Accuracy: 92.55%, Val Loss: 0.1594, Val Accuracy: 95.56%\n",
      "Epoch [5/15], Train Loss: 0.2063, Train Accuracy: 93.15%, Val Loss: 0.1630, Val Accuracy: 95.46%\n",
      "Early stopping patience: 1/5\n",
      "Epoch [6/15], Train Loss: 0.1965, Train Accuracy: 93.47%, Val Loss: 0.1594, Val Accuracy: 96.05%\n",
      "Epoch [7/15], Train Loss: 0.1893, Train Accuracy: 93.78%, Val Loss: 0.1607, Val Accuracy: 95.10%\n",
      "Early stopping patience: 1/5\n",
      "Epoch [8/15], Train Loss: 0.1846, Train Accuracy: 93.95%, Val Loss: 0.1480, Val Accuracy: 95.81%\n",
      "Epoch [9/15], Train Loss: 0.1814, Train Accuracy: 94.07%, Val Loss: 0.1898, Val Accuracy: 93.05%\n",
      "Early stopping patience: 1/5\n",
      "Epoch [10/15], Train Loss: 0.1795, Train Accuracy: 94.02%, Val Loss: 0.1768, Val Accuracy: 94.62%\n",
      "Early stopping patience: 2/5\n",
      "Epoch [11/15], Train Loss: 0.1748, Train Accuracy: 94.31%, Val Loss: 0.1749, Val Accuracy: 94.40%\n",
      "Early stopping patience: 3/5\n",
      "Epoch [12/15], Train Loss: 0.1727, Train Accuracy: 94.38%, Val Loss: 0.2479, Val Accuracy: 89.56%\n",
      "Early stopping patience: 4/5\n",
      "Epoch [13/15], Train Loss: 0.1717, Train Accuracy: 94.44%, Val Loss: 0.3437, Val Accuracy: 79.34%\n",
      "Early stopping patience: 5/5\n",
      "Early stopping triggered. Stopping training.\n"
     ]
    }
   ],
   "source": [
    "def train_model(\n",
    "    model, train_loader, val_loader, loss_function, optimizer, num_epochs, patience=5\n",
    "):\n",
    "    best_val_loss = float(\"inf\")  \n",
    "    patience_counter = 0  \n",
    "\n",
    "    for epoch in range(num_epochs):\n",
    "        # Training phase\n",
    "        model.train()\n",
    "        running_loss = 0.0\n",
    "        correct = 0\n",
    "        total = 0\n",
    "\n",
    "        for inputs, labels in train_loader:\n",
    "            inputs, labels = inputs.to(device), labels.to(device)\n",
    "\n",
    "            optimizer.zero_grad()\n",
    "            outputs = model(inputs)\n",
    "            loss = loss_function(outputs, labels)\n",
    "            loss.backward()\n",
    "            optimizer.step()\n",
    "\n",
    "            running_loss += loss.item()\n",
    "            _, predicted = torch.max(outputs.data, 1)\n",
    "            total += labels.size(0)\n",
    "            correct += (predicted == labels).sum().item()\n",
    "\n",
    "        train_loss = running_loss / len(train_loader)\n",
    "        train_accuracy = 100 * correct / total\n",
    "\n",
    "        # Validation phase\n",
    "        model.eval()\n",
    "        val_loss = 0.0\n",
    "        val_correct = 0\n",
    "        val_total = 0\n",
    "\n",
    "        with torch.no_grad():\n",
    "            for inputs, labels in val_loader:\n",
    "                inputs, labels = inputs.to(device), labels.to(device)\n",
    "                outputs = model(inputs)\n",
    "                loss = loss_function(outputs, labels)\n",
    "\n",
    "                val_loss += loss.item()\n",
    "                _, predicted = torch.max(outputs.data, 1)\n",
    "                val_total += labels.size(0)\n",
    "                val_correct += (predicted == labels).sum().item()\n",
    "\n",
    "        val_loss /= len(val_loader)\n",
    "        val_accuracy = 100 * val_correct / val_total\n",
    "\n",
    "        print(\n",
    "            f\"Epoch [{epoch+1}/{num_epochs}], \"\n",
    "            f\"Train Loss: {train_loss:.4f}, Train Accuracy: {train_accuracy:.2f}%, \"\n",
    "            f\"Val Loss: {val_loss:.4f}, Val Accuracy: {val_accuracy:.2f}%\"\n",
    "        )\n",
    "\n",
    "        if val_loss < best_val_loss:\n",
    "            best_val_loss = val_loss\n",
    "            patience_counter = 0  # Reset the patience counter\n",
    "            # Save the best model\n",
    "            torch.save(model.state_dict(), \"./models/best_model.tar\")\n",
    "        else:\n",
    "            patience_counter += 1\n",
    "            print(f\"Early stopping patience: {patience_counter}/{patience}\")\n",
    "\n",
    "        if patience_counter >= patience:\n",
    "            print(\"Early stopping triggered. Stopping training.\")\n",
    "            break\n",
    "\n",
    "\n",
    "train_model(model=model, train_loader=train_loader, val_loader=val_loader, loss_function=loss_function, optimizer=optimizer, num_epochs=15)\n"
   ]
  },
  {
   "cell_type": "code",
   "execution_count": 21,
   "metadata": {},
   "outputs": [],
   "source": [
    "def test(dataloader, model, loss_function, device):\n",
    "    size = len(dataloader.dataset)\n",
    "    num_batches = len(dataloader)\n",
    "    model.eval()\n",
    "    test_loss, correct = 0, 0\n",
    "    with torch.no_grad():\n",
    "        for X, y in dataloader:\n",
    "            X, y = X.to(device), y.to(device)\n",
    "            pred = model(X)\n",
    "            test_loss += loss_function(pred, y).item()\n",
    "            correct += (pred.argmax(1) == y).type(torch.float).sum().item()\n",
    "    test_loss /= num_batches\n",
    "    correct /= size\n",
    "    return correct, test_loss"
   ]
  },
  {
   "cell_type": "code",
   "execution_count": 26,
   "metadata": {},
   "outputs": [
    {
     "data": {
      "text/plain": [
       "Classifier(\n",
       "  (model): Sequential(\n",
       "    (0): Linear(in_features=15, out_features=128, bias=True)\n",
       "    (1): BatchNorm1d(128, eps=1e-05, momentum=0.1, affine=True, track_running_stats=True)\n",
       "    (2): ReLU()\n",
       "    (3): Dropout(p=0.3, inplace=False)\n",
       "    (4): Linear(in_features=128, out_features=64, bias=True)\n",
       "    (5): BatchNorm1d(64, eps=1e-05, momentum=0.1, affine=True, track_running_stats=True)\n",
       "    (6): ReLU()\n",
       "    (7): Dropout(p=0.3, inplace=False)\n",
       "    (8): Linear(in_features=64, out_features=3, bias=True)\n",
       "  )\n",
       ")"
      ]
     },
     "execution_count": 26,
     "metadata": {},
     "output_type": "execute_result"
    }
   ],
   "source": [
    "model.load_state_dict(torch.load(\"./models/best_model.tar\", weights_only=True))\n",
    "model.to(device)"
   ]
  },
  {
   "cell_type": "code",
   "execution_count": 27,
   "metadata": {},
   "outputs": [
    {
     "name": "stdout",
     "output_type": "stream",
     "text": [
      "Test Error: \n",
      " Accuracy: 95.4%, Avg loss: 0.157214 \n",
      "\n"
     ]
    }
   ],
   "source": [
    "correct, test_loss = test(test_loader, model, loss_function, device)\n",
    "print(f\"Test Error: \\n Accuracy: {(100*correct):>0.1f}%, Avg loss: {test_loss:>8f} \\n\")"
   ]
  },
  {
   "cell_type": "code",
   "execution_count": 24,
   "metadata": {},
   "outputs": [
    {
     "name": "stdout",
     "output_type": "stream",
     "text": [
      "Test Error: \n",
      " Accuracy: 95.4%, Avg loss: 0.157214 \n",
      "\n"
     ]
    }
   ],
   "source": [
    "correct, test_loss = test(test_loader, model, loss_function, device)\n",
    "print(f\"Test Error: \\n Accuracy: {(100*correct):>0.1f}%, Avg loss: {test_loss:>8f} \\n\")"
   ]
  },
  {
   "cell_type": "code",
   "execution_count": null,
   "metadata": {},
   "outputs": [
    {
     "name": "stdout",
     "output_type": "stream",
     "text": [
      "Accuracy for class: GALAXY is 98.3 %\n",
      "Accuracy for class: QSO   is 87.5 %\n",
      "Accuracy for class: STAR  is 94.4 %\n"
     ]
    }
   ],
   "source": [
    "correct_pred = {classname: 0 for classname in classes}\n",
    "total_pred = {classname: 0 for classname in classes}\n",
    "\n",
    "with torch.no_grad():\n",
    "    for inputs, labels in test_loader:\n",
    "        inputs, labels = inputs.to(device), labels.to(device)\n",
    "        outputs = model(inputs)\n",
    "        _, predictions = torch.max(outputs, 1)\n",
    "        # collect the correct predictions for each class\n",
    "        for label, prediction in zip(labels, predictions):\n",
    "            if label == prediction:\n",
    "                correct_pred[classes[label.item()]] += 1\n",
    "            total_pred[classes[label.item()]] += 1\n",
    "\n",
    "for classname, correct_count in correct_pred.items():\n",
    "    accuracy = 100 * float(correct_count) / total_pred[classname]\n",
    "    print(f\"Accuracy for class: {classname:5s} is {accuracy:.1f} %\")"
   ]
  }
 ],
 "metadata": {
  "kernelspec": {
   "display_name": "Python 3",
   "language": "python",
   "name": "python3"
  },
  "language_info": {
   "codemirror_mode": {
    "name": "ipython",
    "version": 3
   },
   "file_extension": ".py",
   "mimetype": "text/x-python",
   "name": "python",
   "nbconvert_exporter": "python",
   "pygments_lexer": "ipython3",
   "version": "3.12.1"
  }
 },
 "nbformat": 4,
 "nbformat_minor": 2
}
